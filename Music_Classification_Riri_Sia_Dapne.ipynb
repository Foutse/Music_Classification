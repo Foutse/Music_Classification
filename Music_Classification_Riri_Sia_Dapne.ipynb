{
 "cells": [
  {
   "cell_type": "markdown",
   "metadata": {},
   "source": [
    "### In this notebook, we want to build a classifier to classify between 3 pop star music, The famous Rihanna, Sia and Daphne"
   ]
  },
  {
   "cell_type": "markdown",
   "metadata": {},
   "source": [
    "We start with importing important libraries that shall be used in this projet"
   ]
  },
  {
   "cell_type": "code",
   "execution_count": 58,
   "metadata": {},
   "outputs": [],
   "source": [
    "import os\n",
    "import time\n",
    "import wave\n",
    "import glob\n",
    "import IPython\n",
    "import librosa\n",
    "import matplotlib\n",
    "import numpy as np\n",
    "import pandas as pd\n",
    "import seaborn as sns\n",
    "from sklearn import metrics\n",
    "import IPython.display as ipd \n",
    "from pydub import AudioSegment\n",
    "import matplotlib.pyplot as plt\n",
    "from sklearn.externals import joblib\n",
    "from sklearn.metrics import accuracy_score\n",
    "from sklearn.ensemble import RandomForestClassifier\n",
    "from sklearn.model_selection import train_test_split\n",
    "from sklearn.metrics import confusion_matrix, classification_report"
   ]
  },
  {
   "cell_type": "markdown",
   "metadata": {},
   "source": [
    "We build our own dataset for this study, by downloading a couple of music on Youtube and convert them into wave files using the Switch software."
   ]
  },
  {
   "cell_type": "code",
   "execution_count": 30,
   "metadata": {},
   "outputs": [],
   "source": [
    "audio_size = 5000  # 5 seconds\n",
    "\n",
    "# This function goes through each wav file in a directory <OriginalPath>,\n",
    "# segments each file in [sample_size] length (secs) pieces,\n",
    "# creates a new subdirectory (if there isn't already one existing) and\n",
    "# saves the audio segments in it\n",
    "def SegmentFiles(OriginalPath, DestinationPath):\n",
    "    j = 0\n",
    "    files = os.listdir(OriginalPath)\n",
    "    for file in files[1:]:\n",
    "        # Create a directory for the splited files\n",
    "        dir = os.path.join(DestinationPath)\n",
    "        if not os.path.exists(dir):\n",
    "            os.makedirs(dir)\n",
    "        try:\n",
    "            audio = AudioSegment.from_wav(os.path.join(OriginalPath, file))\n",
    "        except Exception as e:\n",
    "            print(\"Audio loading error: File {} Error {}\".format(file, e))\n",
    "            continue\n",
    "        audio_len = audio.duration_seconds * 1000\n",
    "        start_time = 0\n",
    "        i = 0\n",
    "        while True:\n",
    "            s_file = str(i + 1) + \"_\" + file\n",
    "\n",
    "            if (start_time + audio_size) < audio_len:\n",
    "                end_time = start_time + audio_size\n",
    "            else:\n",
    "                end_time = audio_len\n",
    "\n",
    "            try:\n",
    "                slice = audio[start_time:end_time]\n",
    "            except Exception as e:\n",
    "                print(\"Slicing error: File {} Error {}\".format(file, e))\n",
    "                break\n",
    "\n",
    "            slice.export(os.path.join(dir, s_file), format=\"wav\")\n",
    "\n",
    "            if audio_len == end_time:\n",
    "                break\n",
    "\n",
    "            start_time = end_time\n",
    "            i += 1\n"
   ]
  },
  {
   "cell_type": "code",
   "execution_count": 39,
   "metadata": {},
   "outputs": [],
   "source": [
    "ORIGINAL_PATH = r\"data2/Sia_wav/\"          # Name of the folder with raw audio files in .wav format to be split\n",
    "FEEDDATA_PATH = r\"data2/FeedData/Sia/\"     # Name of the folder where prepared feed data has to be stored\n",
    "SegmentFiles(ORIGINAL_PATH, FEEDDATA_PATH)"
   ]
  },
  {
   "cell_type": "code",
   "execution_count": 40,
   "metadata": {},
   "outputs": [],
   "source": [
    "ORIGINAL_PATH = r\"data2/Rihanna_wav/\"      # Name of the folder with raw audio files in .wav format to be split\n",
    "FEEDDATA_PATH = r\"data2/FeedData/Rihanna/\" # Name of the folder where prepared feed data has to be stored\n",
    "SegmentFiles(ORIGINAL_PATH, FEEDDATA_PATH)"
   ]
  },
  {
   "cell_type": "code",
   "execution_count": 41,
   "metadata": {},
   "outputs": [],
   "source": [
    "ORIGINAL_PATH = r\"data2/Daphne_wav/\"       # Name of the folder with raw audio files in .wav format to be split\n",
    "FEEDDATA_PATH = r\"data2/FeedData/Daphne/\"  # Name of the folder where prepared feed data has to be stored\n",
    "SegmentFiles(ORIGINAL_PATH, FEEDDATA_PATH)"
   ]
  },
  {
   "cell_type": "markdown",
   "metadata": {},
   "source": [
    "At this point we have our data set split in audios of 5 seconds for each labels that has been stored in a folder called FeedData. This is the data we shall use to build and test our model."
   ]
  },
  {
   "cell_type": "markdown",
   "metadata": {},
   "source": [
    "### Feature extraction"
   ]
  },
  {
   "cell_type": "code",
   "execution_count": 84,
   "metadata": {},
   "outputs": [],
   "source": [
    "# Function to extract the features:\n",
    "def GetFeatures(file_name):\n",
    "    try:\n",
    "        # Load the audio file in 'librosa'\n",
    "        X, sample_rate = librosa.load(file_name)\n",
    "    except Exception as e:\n",
    "        print(\"EXTR_FEATURES.extract_feature(): Could not load file {}\".format(file_name))\n",
    "        return\n",
    "\n",
    "    # Short-time fourrier transform\n",
    "    stft = np.abs(librosa.stft(X))\n",
    "    #[128] mfcc: Mel-frequency cepstral coefficients\n",
    "    mfccs = np.mean(librosa.feature.mfcc(y=X, sr=sample_rate, n_mfcc=40).T, axis=0)\n",
    "    #[12] chroma-stft: Compute a chromagram from a waveform or power spectrogram\n",
    "    chroma = np.mean(librosa.feature.chroma_stft(S=stft, sr=sample_rate).T, axis=0)\n",
    "    #[40] melspectrogram: Compute a Mel-scaled power spectrogram\n",
    "    mel = np.mean(librosa.feature.melspectrogram(X, sr=sample_rate).T, axis=0)\n",
    "    #[7] spectral_contrast: Compute spectral contrast\n",
    "    contrast = np.mean(librosa.feature.spectral_contrast(S=stft, sr=sample_rate).T, axis=0)\n",
    "    #[6] tonnetz: Computes the tonal centroid features (tonnetz)\n",
    "    tonnetz = np.mean(librosa.feature.tonnetz(y=librosa.effects.harmonic(X), sr=sample_rate).T, axis=0)\n",
    "\n",
    "    return mfccs, chroma, mel, contrast, tonnetz"
   ]
  },
  {
   "cell_type": "code",
   "execution_count": 85,
   "metadata": {},
   "outputs": [],
   "source": [
    "def ParseFiles(SourceDirectory, file_ext=\"*.wav\"):\n",
    "\n",
    "    labels = []\n",
    "    \n",
    "    mfccs1 = [] \n",
    "    chroma1 = []\n",
    "    mel1 = []\n",
    "    contrast1 = []\n",
    "    tonnetz1 = []\n",
    "    cat = dict()\n",
    "    with open(\"labels.txt\") as categories:\n",
    "        for l in categories:\n",
    "            cat[l.split(\";\")[1].strip(\"\\n\")] = l.split(\";\")[0]\n",
    "\n",
    "    cntr = 0\n",
    "    for file in glob.glob(os.path.join(SourceDirectory, file_ext)):\n",
    "        try:\n",
    "            mfccs, chroma, mel, contrast, tonnetz = GetFeatures(file)\n",
    "        except Exception as e:\n",
    "            print(\"Error {} occurred during feature extraction: {}\".format(e, file))\n",
    "            continue\n",
    "\n",
    "        label = cat[file.split(\"_\")[1]]\n",
    "        print(file.split(\"/\")[2])\n",
    "\n",
    "        if label != \"\":\n",
    "            mfccs1.append(mfccs) \n",
    "            chroma1.append(chroma)\n",
    "            mel1.append(mel)\n",
    "            contrast1.append(contrast)\n",
    "            tonnetz1.append(tonnetz)\n",
    "            y = int(label) \n",
    "            labels.append(y)\n",
    "            \n",
    "\n",
    "    return mfccs1,chroma1,mel1,contrast1,tonnetz1, labels"
   ]
  },
  {
   "cell_type": "markdown",
   "metadata": {},
   "source": [
    "## Features extraction"
   ]
  },
  {
   "cell_type": "code",
   "execution_count": 111,
   "metadata": {},
   "outputs": [],
   "source": [
    "SourceDirectory =r\"data2/FeedData/*\"\n",
    "mfccs, chroma, mel, contrast, tonnetz, label = ParseFiles(SourceDirectory)"
   ]
  },
  {
   "cell_type": "code",
   "execution_count": 87,
   "metadata": {},
   "outputs": [],
   "source": [
    "np.save(\"data2/Features/MFCC.npy\", mfccs)\n",
    "np.save(\"data2/Features/chroma.npy\", chroma)\n",
    "np.save(\"data2/Features/mel.npy\", mel)\n",
    "np.save(\"data2/Features/contrast.npy\",contrast)\n",
    "np.save(\"data2/Features/tonnetz.npy\",tonnetz)\n",
    "np.save(\"data2/Features/labels.npy\",label)"
   ]
  },
  {
   "cell_type": "markdown",
   "metadata": {},
   "source": [
    "At this point we have successfully stored the extracted features for each class and now we can use them to build our classifier. "
   ]
  },
  {
   "cell_type": "markdown",
   "metadata": {},
   "source": [
    "### We load our extracted features"
   ]
  },
  {
   "cell_type": "code",
   "execution_count": 90,
   "metadata": {},
   "outputs": [],
   "source": [
    "mfccs = np.load(\"data2/Features/MFCC.npy\")\n",
    "chroma = np.load(\"data2/Features/chroma.npy\")\n",
    "mel = np.load(\"data2/Features/mel.npy\")\n",
    "contrast = np.load(\"data2/Features/contrast.npy\")\n",
    "tonnetz = np.load(\"data2/Features/tonnetz.npy\")\n",
    "label = np.load(\"data2/Features/labels.npy\")"
   ]
  },
  {
   "cell_type": "markdown",
   "metadata": {},
   "source": [
    "We check the shapes of our features:"
   ]
  },
  {
   "cell_type": "code",
   "execution_count": 91,
   "metadata": {},
   "outputs": [
    {
     "name": "stdout",
     "output_type": "stream",
     "text": [
      "shape of mfcc is:  (2360, 40)\n",
      "shape of chroma is:  (2360, 12)\n",
      "shape of mel is:  (2360, 128)\n",
      "shape of contrast is:  (2360, 7)\n",
      "shape of tonnetz is:  (2360, 6)\n",
      "shape of labels is:  (2360,)\n"
     ]
    }
   ],
   "source": [
    "print(\"shape of mfcc is: \",np.shape(mfccs))\n",
    "print(\"shape of chroma is: \",np.shape(chroma))\n",
    "print(\"shape of mel is: \",np.shape(mel))\n",
    "print(\"shape of contrast is: \",np.shape(contrast))\n",
    "print(\"shape of tonnetz is: \",np.shape(tonnetz))\n",
    "print(\"shape of labels is: \",np.shape(label))"
   ]
  },
  {
   "cell_type": "markdown",
   "metadata": {},
   "source": [
    "We then observe our distribution"
   ]
  },
  {
   "cell_type": "code",
   "execution_count": 93,
   "metadata": {},
   "outputs": [
    {
     "name": "stdout",
     "output_type": "stream",
     "text": [
      "[769 870 721]\n"
     ]
    },
    {
     "data": {
      "image/png": "[encoded data removed]",
      "text/plain": [
       "<Figure size 432x288 with 1 Axes>"
      ]
     },
     "metadata": {
      "needs_background": "light"
     },
     "output_type": "display_data"
    }
   ],
   "source": [
    "labels, counts = np.unique(label, return_counts=True)\n",
    "print(counts)\n",
    "labels1 = [\"Rihanna\", \"Sia\", \"Daphne\"]\n",
    "plt.bar(labels1, counts, align='center')\n",
    "plt.gca().set_xticks(labels)\n",
    "plt.xlabel(\"classes\")\n",
    "plt.title(\"Classes distribution\")\n",
    "plt.show()"
   ]
  },
  {
   "cell_type": "markdown",
   "metadata": {},
   "source": [
    "We can observe that we have more samples for Sia, with lable 1, but the gap is not too much. Our first approach wil be to build our classifier using all the features stacked together:"
   ]
  },
  {
   "cell_type": "code",
   "execution_count": 94,
   "metadata": {},
   "outputs": [],
   "source": [
    "X = np.hstack([mfccs, chroma, mel, contrast, tonnetz])\n",
    "Y = label"
   ]
  },
  {
   "cell_type": "markdown",
   "metadata": {},
   "source": [
    "We split our data into test set and train set: 70% training and 20% test"
   ]
  },
  {
   "cell_type": "code",
   "execution_count": 95,
   "metadata": {},
   "outputs": [],
   "source": [
    "X_train, X_test, y_train, y_test = train_test_split(X, Y, test_size=0.2) "
   ]
  },
  {
   "cell_type": "markdown",
   "metadata": {},
   "source": [
    "### We build a Random Forest classifier"
   ]
  },
  {
   "cell_type": "code",
   "execution_count": 108,
   "metadata": {},
   "outputs": [
    {
     "name": "stdout",
     "output_type": "stream",
     "text": [
      "Accuracy when considering all the features: 0.9470338983050848\n"
     ]
    }
   ],
   "source": [
    "#Create a Gaussian Classifier\n",
    "clf=RandomForestClassifier(n_estimators=50, max_features= 'auto')\n",
    "\n",
    "#Train the model using the training sets\n",
    "clf.fit(X_train,y_train)\n",
    "\n",
    "#prediction\n",
    "y_pred=clf.predict(X_test)\n",
    "\n",
    "# Model Accuracy, to check how often the classifier is correct\n",
    "print(\"Accuracy when considering all the features:\", metrics.accuracy_score(y_test, y_pred))\n"
   ]
  },
  {
   "cell_type": "code",
   "execution_count": 109,
   "metadata": {},
   "outputs": [
    {
     "data": {
      "image/png": "[encoded data removed]",
      "text/plain": [
       "<Figure size 936x360 with 2 Axes>"
      ]
     },
     "metadata": {
      "needs_background": "light"
     },
     "output_type": "display_data"
    }
   ],
   "source": [
    "labels = [\"Rihanna\", \"Sia\", \"Daphne\"]\n",
    "lab = [0,1,2]\n",
    "cm = confusion_matrix(y_test, y_pred, lab)\n",
    "fig,ax= plt.subplots(figsize = (13,5))\n",
    "#ax= plt.subplot()\n",
    "sns.heatmap(cm, annot=True, ax = ax); #annot=True to annotate cells\n",
    "#ax.get_ylim()\n",
    "ax.set_ylim(3.0, 0)\n",
    "# labels, title and ticks\n",
    "ax.set_xlabel('Predicted labels');ax.set_ylabel('True labels'); \n",
    "ax.set_title('Confusion Matrix for RF classifier with all features'); \n",
    "ax.xaxis.set_ticklabels( labels); ax.yaxis.set_ticklabels( labels, rotation=360);"
   ]
  },
  {
   "cell_type": "code",
   "execution_count": 110,
   "metadata": {},
   "outputs": [
    {
     "data": {
      "text/plain": [
       "['model/ModelRF_all_features.sav']"
      ]
     },
     "execution_count": 110,
     "metadata": {},
     "output_type": "execute_result"
    }
   ],
   "source": [
    "joblib.dump(clf, \"model/ModelRF_all_features.sav\")"
   ]
  },
  {
   "cell_type": "markdown",
   "metadata": {},
   "source": [
    "Now we have a classifier build using both 5 features, and we obtained an accuracy of 94,7%. Additionally observing our confusion matrix, our model took 9 samples of Daphne sound to be Rihanna's, but no sound of Rihanna was confused to be that of Daphne. We have 5 samples of Rihanna confused to be that of Sia and likewise. With 5 samples of Daphne confused to be that of Sia."
   ]
  },
  {
   "cell_type": "code",
   "execution_count": null,
   "metadata": {},
   "outputs": [],
   "source": []
  }
 ],
 "metadata": {
  "kernelspec": {
   "display_name": "Python 3",
   "language": "python",
   "name": "python3"
  },
  "language_info": {
   "codemirror_mode": {
    "name": "ipython",
    "version": 3
   },
   "file_extension": ".py",
   "mimetype": "text/x-python",
   "name": "python",
   "nbconvert_exporter": "python",
   "pygments_lexer": "ipython3",
   "version": "3.7.4"
  }
 },
 "nbformat": 4,
 "nbformat_minor": 2
}
